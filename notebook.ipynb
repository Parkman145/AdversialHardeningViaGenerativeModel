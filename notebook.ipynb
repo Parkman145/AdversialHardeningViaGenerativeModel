{
 "cells": [
  {
   "cell_type": "markdown",
   "metadata": {},
   "source": [
    "TODO:\n",
    "1. Test if having linear activation for output layer on the deceptor will cause it to \"cheat\"\n",
    "2. Test different activation functions for output layer on the deceptor"
   ]
  },
  {
   "cell_type": "code",
   "execution_count": 1,
   "metadata": {
    "_cell_guid": "b1076dfc-b9ad-4769-8c92-a6c4dae69d19",
    "_uuid": "8f2839f25d086af736a60e9eeb907d3b93b6e0e5",
    "tags": []
   },
   "outputs": [],
   "source": [
    "import tensorflow as tf\n",
    "import numpy as np\n",
    "import matplotlib as mpl\n",
    "import matplotlib.pyplot as plt\n",
    "import pprint\n",
    "import time"
   ]
  },
  {
   "cell_type": "code",
   "execution_count": 2,
   "metadata": {
    "tags": []
   },
   "outputs": [],
   "source": [
    "(train_images, train_labels), (test_images, test_labels) = tf.keras.datasets.fashion_mnist.load_data()\n",
    "train_images, test_images = train_images / 256, test_images / 256"
   ]
  },
  {
   "cell_type": "code",
   "execution_count": 65,
   "metadata": {
    "tags": []
   },
   "outputs": [
    {
     "name": "stdout",
     "output_type": "stream",
     "text": [
      "(28, 28)\n"
     ]
    }
   ],
   "source": [
    "deceptor = tf.keras.models.Sequential([\n",
    "    tf.keras.layers.Dense(128),\n",
    "    tf.keras.layers.Dense(128),\n",
    "    tf.keras.layers.Dense(28, input_shape=(28, 28), activation=tf.keras.activations.tanh)\n",
    "])\n",
    "#deceptor.compile()\n",
    "deceptor.build((28, 28))\n",
    "print(deceptor.layers[0].input_shape)"
   ]
  },
  {
   "cell_type": "code",
   "execution_count": 66,
   "metadata": {
    "tags": []
   },
   "outputs": [
    {
     "name": "stdout",
     "output_type": "stream",
     "text": [
      "(None, 28, 28)\n",
      "Model: \"sequential_15\"\n",
      "_________________________________________________________________\n",
      " Layer (type)                Output Shape              Param #   \n",
      "=================================================================\n",
      " flatten_8 (Flatten)         (None, 784)               0         \n",
      "                                                                 \n",
      " dense_37 (Dense)            (None, 128)               100480    \n",
      "                                                                 \n",
      " dense_38 (Dense)            (None, 10)                1290      \n",
      "                                                                 \n",
      "=================================================================\n",
      "Total params: 101,770\n",
      "Trainable params: 101,770\n",
      "Non-trainable params: 0\n",
      "_________________________________________________________________\n",
      "None\n"
     ]
    }
   ],
   "source": [
    "classifier = tf.keras.models.Sequential([\n",
    "    tf.keras.layers.Flatten(input_shape=(28,28)),\n",
    "    tf.keras.layers.Dense(128, activation='relu'),\n",
    "    tf.keras.layers.Dense(10, activation=\"relu\")\n",
    "])\n",
    "classifier.compile(optimizer=\"adam\", loss=tf.keras.losses.SparseCategoricalCrossentropy(from_logits=True))\n",
    "print(classifier.layers[0].input_shape)\n",
    "print(classifier.summary())"
   ]
  },
  {
   "cell_type": "code",
   "execution_count": 67,
   "metadata": {
    "tags": []
   },
   "outputs": [],
   "source": [
    "classifier_optimizer = tf.keras.optimizers.Adam(1e-6)\n",
    "deceptor_optimizer = tf.keras.optimizers.Adam(1e-6)\n",
    "classifier_loss = tf.keras.losses.SparseCategoricalCrossentropy(from_logits=True)\n",
    "    \n",
    "# def deceptor_loss(classifierLoss):\n",
    "#     return 1/classifierLoss\n",
    "\n",
    "\n",
    "def deceptor_loss(original_loss, modified_loss):\n",
    "    #return 1/(modified_loss - original_loss)\n",
    "    return tf.math.exp(original_loss - modified_loss)\n",
    "\n",
    "@tf.function\n",
    "def train_step(images, labels, noise_weight=0.1):\n",
    "#    print(labels)\n",
    "    start_time=time.perf_counter()\n",
    "    with tf.GradientTape() as cls_tape, tf.GradientTape() as dcp_tape:\n",
    "        cls_tape.watch(classifier.variables)\n",
    "        dcp_tape.watch(deceptor.variables)\n",
    "        #Real Prediction\n",
    "        real_prediction = classifier(tf.expand_dims(images, 0), training=True)\n",
    "        \n",
    "        #Fake Prediction\n",
    "        noise_profile = tf.cast(deceptor(images, training=True), dtype=tf.float64)\n",
    "        images = tf.math.add(tf.convert_to_tensor(images) * (1-noise_weight), noise_profile * noise_weight)\n",
    "        images.set_shape((28, 28))\n",
    "        fake_prediction = classifier(tf.expand_dims(images, 0), training=True)\n",
    "\n",
    "        #Calculae Loss\n",
    "        real_loss = classifier_loss(labels, real_prediction)\n",
    "        fake_loss = classifier_loss(labels, fake_prediction)\n",
    "        dcp_loss = deceptor_loss(fake_loss, real_loss)\n",
    "        if real_loss < 0:\n",
    "            print(real_loss)\n",
    "        if real_loss < 0:\n",
    "            print(real_loss)\n",
    "\n",
    "    #Calculate Gradients\n",
    "    gradients_of_classifier = cls_tape.gradient(fake_loss, classifier.trainable_variables)\n",
    "    gradients_of_deceptor = dcp_tape.gradient(dcp_loss, deceptor.trainable_variables)\n",
    "    \n",
    "    #Apply Gradients\n",
    "    classifier_optimizer.apply_gradients(zip(gradients_of_classifier, classifier.trainable_variables))\n",
    "    deceptor_optimizer.apply_gradients(zip(gradients_of_deceptor, deceptor.trainable_variables))\n",
    "    end_time = time.perf_counter()\n",
    "    total_time = end_time-start_time\n",
    "    print(f\"Step time: {total_time} Classifier loss: {fake_loss} Deceptor loss: {dcp_loss}\", end=\"\\r\")\n",
    "    return [fake_loss, dcp_loss]\n",
    "def train(images, labels, epochs, noise_weight=0.1):\n",
    "    assert noise_weight <= 1.0\n",
    "    losses = []\n",
    "    for epoch in range(epochs):\n",
    "        for i, (image_batch, label_batch) in enumerate(zip(images, labels)):\n",
    "            print(f\"Image: {i}\", end=\"\\r\")\n",
    "            step_loss = train_step(image_batch, label_batch)\n",
    "            losses.append(step_loss)\n",
    "        print(f\"Finished epoch {epoch}\")\n",
    "    losses = np.asarray(losses)\n",
    "    return np.transpose(losses)"
   ]
  },
  {
   "cell_type": "code",
   "execution_count": 68,
   "metadata": {
    "tags": []
   },
   "outputs": [
    {
     "name": "stdout",
     "output_type": "stream",
     "text": [
      "Tensor(\"sparse_categorical_crossentropy/weighted_loss/value:0\", shape=(), dtype=float32)\n",
      "Tensor(\"sparse_categorical_crossentropy/weighted_loss/value:0\", shape=(), dtype=float32)\n",
      "Tensor(\"sparse_categorical_crossentropy/weighted_loss/value:0\", shape=(), dtype=float32)1/weighted_loss/value:0\", shape=(), dtype=float32) Deceptor loss: Tensor(\"Exp:0\", shape=(), dtype=float32)\n",
      "Tensor(\"sparse_categorical_crossentropy/weighted_loss/value:0\", shape=(), dtype=float32)\n",
      "Finished epoch 034090002253652 Classifier loss: Tensor(\"sparse_categorical_crossentropy_1/weighted_loss/value:0\", shape=(), dtype=float32) Deceptor loss: Tensor(\"Exp:0\", shape=(), dtype=float32)\n"
     ]
    }
   ],
   "source": [
    "history = train(train_images, train_labels, 1, noise_weight=0.1)"
   ]
  },
  {
   "cell_type": "code",
   "execution_count": 7,
   "metadata": {
    "tags": []
   },
   "outputs": [
    {
     "data": {
      "text/plain": [
       "<tf.Tensor: shape=(1, 10), dtype=float32, numpy=\n",
       "array([[0.        , 0.        , 0.47352752, 0.        , 0.06124386,\n",
       "        1.83079   , 0.        , 0.75525695, 2.6524215 , 4.3997517 ]],\n",
       "      dtype=float32)>"
      ]
     },
     "execution_count": 7,
     "metadata": {},
     "output_type": "execute_result"
    }
   ],
   "source": [
    "classifier(tf.expand_dims(train_images[0], 0), training=True)"
   ]
  },
  {
   "cell_type": "code",
   "execution_count": null,
   "metadata": {},
   "outputs": [],
   "source": [
    "history2 = classifier.fit(train_images, train_labels, epochs=20, batch_size=60000)"
   ]
  },
  {
   "cell_type": "code",
   "execution_count": 63,
   "metadata": {},
   "outputs": [
    {
     "data": {
      "text/plain": [
       "[<matplotlib.lines.Line2D at 0x28b5fb54ca0>]"
      ]
     },
     "execution_count": 63,
     "metadata": {},
     "output_type": "execute_result"
    },
    {
     "data": {
      "image/png": "[encoded data removed]",
      "text/plain": [
       "<Figure size 432x288 with 1 Axes>"
      ]
     },
     "metadata": {
      "needs_background": "light"
     },
     "output_type": "display_data"
    }
   ],
   "source": [
    "mpl.pyplot.plot(history[0])\n",
    "mpl.pyplot.plot(history[1])"
   ]
  },
  {
   "cell_type": "code",
   "execution_count": null,
   "metadata": {},
   "outputs": [],
   "source": [
    "mpl.pyplot.plot(history2.history['loss'])"
   ]
  },
  {
   "cell_type": "code",
   "execution_count": null,
   "metadata": {},
   "outputs": [],
   "source": [
    "print(history2.history)"
   ]
  },
  {
   "cell_type": "code",
   "execution_count": null,
   "metadata": {},
   "outputs": [],
   "source": [
    "train_step(train_images[0], train_labels[0], noise_weight=0.0)"
   ]
  },
  {
   "cell_type": "code",
   "execution_count": null,
   "metadata": {},
   "outputs": [],
   "source": [
    "deceptor(train_images[0])"
   ]
  },
  {
   "cell_type": "code",
   "execution_count": 69,
   "metadata": {},
   "outputs": [
    {
     "name": "stdout",
     "output_type": "stream",
     "text": [
      "313/313 [==============================] - 0s 946us/step - loss: 1.6992\n"
     ]
    },
    {
     "data": {
      "text/plain": [
       "1.6992433071136475"
      ]
     },
     "execution_count": 69,
     "metadata": {},
     "output_type": "execute_result"
    }
   ],
   "source": [
    "classifier.evaluate(test_images, test_labels)"
   ]
  },
  {
   "cell_type": "code",
   "execution_count": 16,
   "metadata": {},
   "outputs": [
    {
     "name": "stdout",
     "output_type": "stream",
     "text": [
      "Model: \"sequential_1\"\n",
      "_________________________________________________________________\n",
      " Layer (type)                Output Shape              Param #   \n",
      "=================================================================\n",
      " flatten (Flatten)           (None, 784)               0         \n",
      "                                                                 \n",
      " dense_3 (Dense)             (None, 128)               100480    \n",
      "                                                                 \n",
      " dense_4 (Dense)             (None, 10)                1290      \n",
      "                                                                 \n",
      "=================================================================\n",
      "Total params: 101,770\n",
      "Trainable params: 101,770\n",
      "Non-trainable params: 0\n",
      "_________________________________________________________________\n",
      "None\n"
     ]
    }
   ],
   "source": [
    "print(classifier.summary())"
   ]
  },
  {
   "cell_type": "markdown",
   "metadata": {},
   "source": [
    "Cringe:0.6588305830955505"
   ]
  }
 ],
 "metadata": {
  "kernelspec": {
   "display_name": "Python 3 (ipykernel)",
   "language": "python",
   "name": "python3"
  },
  "language_info": {
   "codemirror_mode": {
    "name": "ipython",
    "version": 3
   },
   "file_extension": ".py",
   "mimetype": "text/x-python",
   "name": "python",
   "nbconvert_exporter": "python",
   "pygments_lexer": "ipython3",
   "version": "3.10.2"
  }
 },
 "nbformat": 4,
 "nbformat_minor": 4
}
