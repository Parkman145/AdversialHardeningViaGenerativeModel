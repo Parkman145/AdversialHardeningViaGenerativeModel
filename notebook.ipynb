{
 "cells": [
  {
   "cell_type": "markdown",
   "metadata": {},
   "source": [
    "TODO:\n",
    "1. Test if having linear activation for output layer on the deceptor will cause it to \"cheat\"\n",
    "2. Test different activation functions for output layer on the deceptor"
   ]
  },
  {
   "cell_type": "code",
   "execution_count": 1,
   "metadata": {
    "_cell_guid": "b1076dfc-b9ad-4769-8c92-a6c4dae69d19",
    "_uuid": "8f2839f25d086af736a60e9eeb907d3b93b6e0e5",
    "tags": []
   },
   "outputs": [],
   "source": [
    "import tensorflow as tf\n",
    "import numpy as np\n",
    "import matplotlib as mpl\n",
    "import matplotlib.pyplot as plt\n",
    "import time"
   ]
  },
  {
   "cell_type": "code",
   "execution_count": 2,
   "metadata": {
    "tags": []
   },
   "outputs": [],
   "source": [
    "(train_images, train_labels), (test_images, test_labels) = tf.keras.datasets.fashion_mnist.load_data()\n",
    "train_images, test_images = train_images / 256, test_images / 256"
   ]
  },
  {
   "cell_type": "code",
   "execution_count": 3,
   "metadata": {
    "tags": []
   },
   "outputs": [],
   "source": [
    "classifier = tf.keras.models.Sequential([\n",
    "    tf.keras.layers.Flatten(input_shape=(28,28)),\n",
    "    tf.keras.layers.Dense(128, activation='relu'),\n",
    "    tf.keras.layers.Dense(10, activation=\"relu\")\n",
    "])\n",
    "classifier.compile(optimizer=\"adam\", loss=tf.keras.losses.SparseCategoricalCrossentropy(from_logits=True))"
   ]
  },
  {
   "cell_type": "code",
   "execution_count": 4,
   "metadata": {
    "tags": []
   },
   "outputs": [
    {
     "name": "stdout",
     "output_type": "stream",
     "text": [
      "Model: \"sequential_1\"\n",
      "_________________________________________________________________\n",
      " Layer (type)                Output Shape              Param #   \n",
      "=================================================================\n",
      " dense_2 (Dense)             (28, 128)                 3712      \n",
      "                                                                 \n",
      " dense_3 (Dense)             (28, 128)                 16512     \n",
      "                                                                 \n",
      " dense_4 (Dense)             (28, 28)                  3612      \n",
      "                                                                 \n",
      "=================================================================\n",
      "Total params: 23,836\n",
      "Trainable params: 23,836\n",
      "Non-trainable params: 0\n",
      "_________________________________________________________________\n",
      "None\n"
     ]
    }
   ],
   "source": [
    "image_deceptor = tf.keras.models.Sequential([\n",
    "    tf.keras.layers.Dense(128),\n",
    "    tf.keras.layers.Dense(128),\n",
    "    tf.keras.layers.Dense(28, input_shape=(28, 28), activation=\"linear\")\n",
    "])\n",
    "#deceptor.compile()\n",
    "image_deceptor.build((28, 28))\n",
    "print(image_deceptor.summary())"
   ]
  },
  {
   "cell_type": "code",
   "execution_count": 5,
   "metadata": {},
   "outputs": [],
   "source": [
    "label_deceptor = tf.keras.models.Sequential([\n",
    "    tf.keras.layers.Dense(128, input_shape=(10,)),\n",
    "    tf.keras.layers.Dense(128),\n",
    "    tf.keras.layers.Dense(784, activation=\"linear\"),\n",
    "    tf.keras.layers.Reshape((28, 28))\n",
    "])\n",
    "label_deceptor.compile()\n",
    "#label_deceptor.build([10])"
   ]
  },
  {
   "cell_type": "code",
   "execution_count": null,
   "metadata": {},
   "outputs": [],
   "source": [
    "plt.imshow(label_deceptor([np.arange(10),])[0])"
   ]
  },
  {
   "cell_type": "code",
   "execution_count": 8,
   "metadata": {},
   "outputs": [],
   "source": [
    "classifier_optimizer = tf.keras.optimizers.Adam(1e-6)\n",
    "deceptor_optimizer = tf.keras.optimizers.Adam(1e-6)\n",
    "classifier_loss = tf.keras.losses.SparseCategoricalCrossentropy(from_logits=True)\n",
    "\n",
    "\n",
    "def deceptor_loss(original_loss, modified_loss):\n",
    "    return tf.math.exp(original_loss - modified_loss)"
   ]
  },
  {
   "cell_type": "code",
   "execution_count": 9,
   "metadata": {},
   "outputs": [],
   "source": [
    "class ModelPair:\n",
    "    def __init__(self, classifier, deceptor):\n",
    "        self.classifier=classifier\n",
    "        self.deceptor=deceptor\n",
    "    \n",
    "    \n",
    "    @tf.function\n",
    "    def train_step(self, images, labels, noise_weight=0.1):\n",
    "        start_time=time.perf_counter()\n",
    "        base = tf.zeros(10)\n",
    "        print(type(labels))\n",
    "        with tf.GradientTape() as cls_tape, tf.GradientTape() as dcp_tape:\n",
    "            cls_tape.watch(self.classifier.variables)\n",
    "            dcp_tape.watch(self.deceptor.variables)\n",
    "            #Real Prediction\n",
    "            real_prediction = self.classifier(tf.expand_dims(images, 0), training=True)\n",
    "\n",
    "            #Fake Prediction\n",
    "            noise_profile = tf.cast(self.deceptor(labels, training=True), dtype=tf.float64)\n",
    "            images = tf.math.add(tf.convert_to_tensor(images) * (1-noise_weight), noise_profile * noise_weight)\n",
    "            images.set_shape((28, 28))\n",
    "            fake_prediction = self.classifier(tf.expand_dims(images, 0), training=True)\n",
    "\n",
    "            #Calculae Loss\n",
    "            real_loss = classifier_loss(labels, real_prediction)\n",
    "            fake_loss = classifier_loss(labels, fake_prediction)\n",
    "            dcp_loss = deceptor_loss(fake_loss, real_loss)\n",
    "            \n",
    "            \n",
    "        #Calculate Gradients\n",
    "        gradients_of_classifier = cls_tape.gradient(fake_loss, self.classifier.trainable_variables)\n",
    "        gradients_of_deceptor = dcp_tape.gradient(dcp_loss, self.deceptor.trainable_variables)\n",
    "\n",
    "        #Apply Gradients\n",
    "        classifier_optimizer.apply_gradients(zip(gradients_of_classifier, self.classifier.trainable_variables))\n",
    "        deceptor_optimizer.apply_gradients(zip(gradients_of_deceptor, self.deceptor.trainable_variables))\n",
    "        end_time = time.perf_counter()\n",
    "        total_time = end_time-start_time\n",
    "#        print(f\"Step time: {total_time} Classifier loss: {fake_loss} Deceptor loss: {dcp_loss}\", end=\"\\r\")\n",
    "        return [fake_loss, dcp_loss]\n",
    "    \n",
    "    \n",
    "    def train(self, images, labels, epochs, noise_weight=0.1):\n",
    "        assert noise_weight <= 1.0\n",
    "        losses = []\n",
    "        for epoch in range(epochs):\n",
    "            for i, (image_batch, label_batch) in enumerate(zip(images, labels)):\n",
    "                print(f\"Image: {i}\", end=\"\\r\")\n",
    "                step_loss = self.train_step(image_batch, label_batch)\n",
    "                losses.append(step_loss)\n",
    "            print(f\"Finished epoch {epoch}\")\n",
    "        losses = np.asarray(losses)\n",
    "        return np.transpose(losses)"
   ]
  },
  {
   "cell_type": "code",
   "execution_count": 10,
   "metadata": {},
   "outputs": [],
   "source": [
    "models = ModelPair(classifier, label_deceptor)\n",
    "#history = models.train(train_images[:500], train_labels[:500], 1, noise_weight=0.1)\n",
    "#plt.plot(history[0])"
   ]
  },
  {
   "cell_type": "code",
   "execution_count": null,
   "metadata": {
    "jupyter": {
     "source_hidden": true
    },
    "tags": []
   },
   "outputs": [],
   "source": [
    "classifier_optimizer = tf.keras.optimizers.Adam(1e-6)\n",
    "deceptor_optimizer = tf.keras.optimizers.Adam(1e-6)\n",
    "classifier_loss = tf.keras.losses.SparseCategoricalCrossentropy(from_logits=True)\n",
    "    \n",
    "# def deceptor_loss(classifierLoss):\n",
    "#     return 1/classifierLoss\n",
    "\n",
    "\n",
    "def deceptor_loss(original_loss, modified_loss):\n",
    "    #return 1/(modified_loss - original_loss)\n",
    "    return tf.math.exp(original_loss - modified_loss)\n",
    "\n",
    "@tf.function\n",
    "def train_step(images, labels, noise_weight=0.1):\n",
    "#    print(labels)\n",
    "    start_time=time.perf_counter()\n",
    "    with tf.GradientTape() as cls_tape, tf.GradientTape() as dcp_tape:\n",
    "        cls_tape.watch(classifier.variables)\n",
    "        dcp_tape.watch(deceptor.variables)\n",
    "        #Real Prediction\n",
    "        real_prediction = classifier(tf.expand_dims(images, 0), training=True)\n",
    "        \n",
    "        #Fake Prediction\n",
    "        noise_profile = tf.cast(deceptor(images, training=True), dtype=tf.float64)\n",
    "        images = tf.math.add(tf.convert_to_tensor(images) * (1-noise_weight), noise_profile * noise_weight)\n",
    "        images.set_shape((28, 28))\n",
    "        fake_prediction = classifier(tf.expand_dims(images, 0), training=True)\n",
    "\n",
    "        #Calculae Loss\n",
    "        real_loss = classifier_loss(labels, real_prediction)\n",
    "        fake_loss = classifier_loss(labels, fake_prediction)\n",
    "        dcp_loss = deceptor_loss(fake_loss, real_loss)\n",
    "        if real_loss < 0:\n",
    "            print(real_loss)\n",
    "        if real_loss < 0:\n",
    "            print(real_loss)\n",
    "\n",
    "    #Calculate Gradients\n",
    "    gradients_of_classifier = cls_tape.gradient(fake_loss, classifier.trainable_variables)\n",
    "    gradients_of_deceptor = dcp_tape.gradient(dcp_loss, deceptor.trainable_variables)\n",
    "    \n",
    "    #Apply Gradients\n",
    "    classifier_optimizer.apply_gradients(zip(gradients_of_classifier, classifier.trainable_variables))\n",
    "    deceptor_optimizer.apply_gradients(zip(gradients_of_deceptor, deceptor.trainable_variables))\n",
    "    end_time = time.perf_counter()\n",
    "    total_time = end_time-start_time\n",
    "    print(f\"Step time: {total_time} Classifier loss: {fake_loss} Deceptor loss: {dcp_loss}\", end=\"\\r\")\n",
    "    return [fake_loss, dcp_loss]\n",
    "def train(images, labels, epochs, noise_weight=0.1):\n",
    "    assert noise_weight <= 1.0\n",
    "    losses = []\n",
    "    for epoch in range(epochs):\n",
    "        for i, (image_batch, label_batch) in enumerate(zip(images, labels)):\n",
    "            print(f\"Image: {i}\", end=\"\\r\")\n",
    "            step_loss = train_step(image_batch, label_batch)\n",
    "            losses.append(step_loss)\n",
    "        print(f\"Finished epoch {epoch}\")\n",
    "    losses = np.asarray(losses)\n",
    "    return np.transpose(losses)"
   ]
  },
  {
   "cell_type": "code",
   "execution_count": null,
   "metadata": {
    "tags": []
   },
   "outputs": [],
   "source": [
    "history = train(train_images, train_labels, 1, noise_weight=0.1)"
   ]
  },
  {
   "cell_type": "code",
   "execution_count": null,
   "metadata": {},
   "outputs": [],
   "source": [
    "history2 = classifier.fit(train_images, train_labels, epochs=20, batch_size=60000)"
   ]
  },
  {
   "cell_type": "code",
   "execution_count": null,
   "metadata": {},
   "outputs": [],
   "source": [
    "mpl.pyplot.plot(history[0])\n",
    "mpl.pyplot.plot(history[1])"
   ]
  },
  {
   "cell_type": "code",
   "execution_count": null,
   "metadata": {},
   "outputs": [],
   "source": [
    "mpl.pyplot.plot(history2.history['loss'])"
   ]
  },
  {
   "cell_type": "code",
   "execution_count": null,
   "metadata": {},
   "outputs": [],
   "source": [
    "print(history2.history)"
   ]
  },
  {
   "cell_type": "code",
   "execution_count": null,
   "metadata": {},
   "outputs": [],
   "source": [
    "plt.imshow(deceptor(train_images[3]))"
   ]
  },
  {
   "cell_type": "code",
   "execution_count": null,
   "metadata": {},
   "outputs": [],
   "source": [
    "classifier.evaluate(test_images, test_labels)"
   ]
  },
  {
   "cell_type": "markdown",
   "metadata": {},
   "source": [
    "Cringe:0.6588305830955505"
   ]
  },
  {
   "cell_type": "code",
   "execution_count": null,
   "metadata": {},
   "outputs": [
    {
     "name": "stdout",
     "output_type": "stream",
     "text": [
      "9\n"
     ]
    }
   ],
   "source": [
    "print(np.max(train_labels))"
   ]
  },
  {
   "cell_type": "code",
   "execution_count": 12,
   "metadata": {},
   "outputs": [
    {
     "name": "stdout",
     "output_type": "stream",
     "text": [
      "<class 'numpy.uint8'>\n"
     ]
    }
   ],
   "source": [
    "print(type(train_labels[0]))"
   ]
  },
  {
   "cell_type": "code",
   "execution_count": null,
   "metadata": {},
   "outputs": [],
   "source": []
  }
 ],
 "metadata": {
  "kernelspec": {
   "display_name": "Python 3 (ipykernel)",
   "language": "python",
   "name": "python3"
  },
  "language_info": {
   "codemirror_mode": {
    "name": "ipython",
    "version": 3
   },
   "file_extension": ".py",
   "mimetype": "text/x-python",
   "name": "python",
   "nbconvert_exporter": "python",
   "pygments_lexer": "ipython3",
   "version": "3.10.2"
  }
 },
 "nbformat": 4,
 "nbformat_minor": 4
}
